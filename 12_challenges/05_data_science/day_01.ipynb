{
 "cells": [
  {
   "cell_type": "markdown",
   "id": "975e0731",
   "metadata": {},
   "source": [
    "## 🐍 Introduction to Jupyter Notebooks\n",
    "\n",
    "### Jupyter Notebooks (`.ipynb`) are an interactive coding environment widely used in:\n",
    "\n",
    "1. Data Science & Machine Learning\n",
    "2. Scientific Research\n",
    "3. Prototyping and Teaching\n",
    "\n",
    "### They allow you to combine:\n",
    "\n",
    "- Code (Python, R, Julia, etc.)\n",
    "- Text (Markdown for notes, documentation)\n",
    "- Math (LaTeX equations)\n",
    "- Visuals (graphs, plots, images)\n",
    "\n",
    "This makes notebooks a powerful tool for learning, exploring, and explaining code.\n",
    "\n",
    "### 👉 Fun fact: Jupyter stands for Julia + Python + R."
   ]
  },
  {
   "cell_type": "code",
   "execution_count": 1,
   "id": "b3fdb059",
   "metadata": {},
   "outputs": [
    {
     "name": "stdout",
     "output_type": "stream",
     "text": [
      "Hello World\n"
     ]
    }
   ],
   "source": [
    "print(\"Hello World\")"
   ]
  }
 ],
 "metadata": {
  "kernelspec": {
   "display_name": "base",
   "language": "python",
   "name": "python3"
  },
  "language_info": {
   "codemirror_mode": {
    "name": "ipython",
    "version": 3
   },
   "file_extension": ".py",
   "mimetype": "text/x-python",
   "name": "python",
   "nbconvert_exporter": "python",
   "pygments_lexer": "ipython3",
   "version": "3.12.7"
  }
 },
 "nbformat": 4,
 "nbformat_minor": 5
}
